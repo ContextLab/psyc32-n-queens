{
  "nbformat": 4,
  "nbformat_minor": 0,
  "metadata": {
    "colab": {
      "name": "n-queens.ipynb",
      "provenance": [],
      "authorship_tag": "ABX9TyNZzMeRtEAFKalhUo+TYHUB",
      "include_colab_link": true
    },
    "kernelspec": {
      "name": "python3",
      "display_name": "Python 3"
    }
  },
  "cells": [
    {
      "cell_type": "markdown",
      "metadata": {
        "id": "view-in-github",
        "colab_type": "text"
      },
      "source": [
        "<a href=\"https://colab.research.google.com/github/ContextLab/psyc32-n-queens/blob/main/n-queens.ipynb\" target=\"_parent\"><img src=\"https://colab.research.google.com/assets/colab-badge.svg\" alt=\"Open In Colab\"/></a>"
      ]
    },
    {
      "cell_type": "markdown",
      "metadata": {
        "id": "DSDPZvlzCLEH"
      },
      "source": [
        "# The $n$-Queens puzzle: Introduction and overview\n",
        "\n",
        "The classic [eight queens puzzle](https://en.wikipedia.org/wiki/Eight_queens_puzzle) refers to the challenge of placing eight [chess](https://en.wikipedia.org/wiki/Chess) [queens](https://en.wikipedia.org/wiki/Queen_(chess)) on an $8 \\times 8$ board such that no queen is attacking any other.  Specifically, there can only be (at most) a single queen on any row, column, or diagonal of the board.  Here is one solution to the eight queens puzzle (there are 92 distinct solutions in total, or 12 if rotations and reflections are not counted as separate solutions):\n",
        "\n",
        "![8-queens](https://i.stack.imgur.com/D32OV.png)\n",
        "\n",
        "In principle, the eight queens puzzle may be generalized to imaginary chessboards of any size.  For $n \\geq 1$, placing $n$ queens on an $n \\times n$ chess board is referred to as the $n$-queens puzzle.\n",
        "\n",
        "For this assignment, you'll be building a solver for the $n$-queens puzzle.  There are two general functions you'll need to write:\n",
        "1. A function for printing out a board position (e.g., depicting the configuration of the pieces visually)\n",
        "2. A function for checking whether a given position corresponds to a solution (i.e., whether any queens are attacking each other)\n",
        "\n",
        "Using these two functions, you'll be provided with functions for returning all solutions (given $n \\geq 1$) and for returning the *number* of solutions (given $n \\geq 1$).\n",
        "\n",
        "## Some history of the $n$-queens puzzle\n",
        "In [this 2017 paper](https://www.jair.org/index.php/jair/article/view/11079), the $n$-queens puzzle (also called the $n$-queens problem) was shown to be a member of a set of problems in computer science that are [NP-complete](https://en.wikipedia.org/wiki/NP-completeness).  Exploring or proving NP-completeness is beyond the scope of our course, but the super high-level intuition for NP-completeness may be summarized as follows:\n",
        "  - For all known ways of solving them, NP-complete problems take a very long time to solve (their associated computations don't scale well).  NP stands for \"nondeterministic polynomial\".  The \"polynomial\" part refers to how many computations it takes to solve the problem and verify its solution as a function of the size of the problem (e.g., the '$n$' in the $n$-queens puzzle).  The \"nondeterministic\" part means that there's no known direct (deterministic) strategy or set of rules that can be followed to generate a solution.\n",
        "  - Because all NP-complete problems can be efficiently(ish) converted to other NP-complete problems, solving any one NP-complete problem efficiently would also provide an efficient solution for *all* NP-complete problems.\n",
        "\n",
        "Solving NP-complete problems efficiently (or even proving whether or not NP-complete problems *can* be solved efficiently) is an [open question in computer science](https://en.wikipedia.org/wiki/P_versus_NP_problem).  Even early on in your journey towards learning to program, it can still be fun and instructive to explore problems like the $n$-queens puzzle.  Before reading the next section, where I'll present the way of solving the puzzle that we'll be using in this assignment, it's worth taking a few moments to think about how *you* might go about solving it.  For example:\n",
        "  - How might you represent the chess board using some of the Python datatypes that you've already learned about?\n",
        "  - How might you represent the positions of the pieces (queens) on the board?\n",
        "  - How might you go about systematically generating \"guesses\" about possible solutions?\n",
        "  - How might you go about *checking* whether a particular guess is a valid solution?\n",
        "\n",
        "I encourage you to sketch out some thoughts and/or [discuss](https://discord.gg/AdDgJd7cbM) with classmates.\n",
        "\n",
        "# General (naïve-ish) solution\n",
        "\n",
        "**(Spoiler alert!)**\n",
        "\n",
        "First, we'll represent the board in an efficient way: an $n$-element list, where the position reflects the column number and the value reflects the row of the queen at that column.\n",
        "\n",
        "For example, the above solution to the 8-queens puzzle could be represented by the list [1, 3, 5, 7, 2, 0, 6, 4].  Make sure you understand why that particular list corresponds to that particular position before moving on.  (Hint: remember that positions are [zero-indexed](https://en.wikipedia.org/wiki/Zero-based_numbering) in Python.)  Try writing out the board positions for some other lists of different lengths-- e.g. [0, 3, 1, 2] or [4, 3, 2, 1, 0], etc.\n",
        "\n",
        "Notice that, with this notation, every possible solution to the $n$-queens puzzle must be a permutation of the integers from 0 to $n-1$. This ensures that at most a single queen is placed in each row and column.  As long as there are no repeated numbers in the list, we know that no queens are attacking each other vertically or horizontally (since each list element only has one number).\n",
        "\n",
        "Next we need to check for diagonal attacks. Using the same notation, we can check to see if queens are attacking each other along a \"forward\" (top-left to bottom-right) diagonal by asking whether any queens share the same difference between their row and column. In other words: if $r_0...(n-1)$ represents the queens' rows and $c_0...(n-1)$ represents the queens' columns, we must ensure that $r_i - c_i$ never equals $r_j - c_j$ for any value of $i \\neq j$. This can be checked efficiently by ensuring that `len(np.unique(np.arange(n) - pos)) == n`. Finally, to check the \"reverse\" diagonals (i.e. top-right to bottom-left), we can use analogous logic and verify that `len(np.unique(np.arange(n-1, -1, -1) - pos)) == n` as well.\n",
        "\n",
        "If no queens share a row, column, forward diagonal, or reverse diagonal, and if $n$ queens have been placed on the $n \\times n$ board, then we have found a solution!\n",
        "\n",
        "Naïvely, to find every solution of the $n$-queens puzzle for a given $n$, we could simply iterate through all possible permutations of the integers from $0...(n-1)$, check whether each is a valid solution, and collect up all of the permutations that are valid solutions. The challenge is that the number of permutations of $n$ numbers is $n$ factorial (i.e., $n!$), which becomes intractable as $n$ gets large. For example, storing a single integer in short (16 [bit](https://en.wikipedia.org/wiki/Bit)) format requires 2 [bytes](https://en.wikipedia.org/wiki/Byte). Therefore storing a single position (of length $n$) requires $2n$ bytes. Storing all possible $n!$ permutations for a $13 \\times 13$ board would require over 12[GB](https://en.wikipedia.org/wiki/Gigabyte) of memory, and for a $14 \\times 14$ board would require over 174GB!\n",
        "\n",
        "Since our main objective for this assignment is to practice and improve our programming skills, we won't worry about scalability here-- you can safely assume that you'll never need to solve (or count solutions for) $n > 12$.\n",
        "\n",
        "# Grading\n",
        "\n",
        "This assignment is worth a total of 5 points.  You may view the tests in the public rubric [here](https://github.com/ContextLab/cs-for-psych/blob/master/assignments/n-queens/public_rubric.xls).  To get full credit, you must (correctly) fill in all of the code between the commented `### BEGIN YOUR CODE` and `### END YOUR CODE` blocks throughout this notebook.  (No other code should be modified.)"
      ]
    },
    {
      "cell_type": "code",
      "metadata": {
        "id": "sgTHKSijK3yR"
      },
      "source": [
        "import numpy as np #the numpy library is used to represent and manipulate ordered sets (think of them like fancy lists)\n",
        "from sympy.utilities.iterables import multiset_permutations #this is used to compute every permutation of a list"
      ],
      "execution_count": null,
      "outputs": []
    },
    {
      "cell_type": "markdown",
      "metadata": {
        "id": "9khYTNLFKUzO"
      },
      "source": [
        "# Represent a board position as a string: `board2str`\n",
        "\n",
        "We'll write a function to convert a board position to a string that may be printed out:\n",
        "```python\n",
        ">> print(board2str([0, 4, 7, 5, 2, 6, 1, 3]))\n",
        "\n",
        "-|0|1|2|3|4|5|6|7|\n",
        "0|*|-|-|-|-|-|-|-|\n",
        "1|-|-|-|-|-|-|*|-|\n",
        "2|-|-|-|-|*|-|-|-|\n",
        "3|-|-|-|-|-|-|-|*|\n",
        "4|-|*|-|-|-|-|-|-|\n",
        "5|-|-|-|*|-|-|-|-|\n",
        "6|-|-|-|-|-|*|-|-|\n",
        "7|-|-|*|-|-|-|-|-|\n",
        "```\n",
        "\n",
        "Some things to note:\n",
        "  - The `board2str` function takes as input a single argument, `pos`, which is a list representation of the board position\n",
        "  - From this list representation, the function automatically determines how large the board is (`n = len(pos)`)\n",
        "  - The rows and columns of the board are numbered (starting with 0)\n",
        "  - Empty squares are denoted by `-` and queens are denoted by `*`\n",
        "  - Rows are separated using the [newline character](https://www.freecodecamp.org/news/python-new-line-and-how-to-python-print-without-a-newline/), `\\n`.  This tells Python that a single string occupies several lines, e.g. when it is printed out.\n",
        "\n",
        "Given the input `[0, 4, 7, 5, 2, 6, 1, 3]`, `board2str` should return the following string:\n",
        "```python\n",
        ">> board2str([0, 4, 7, 5, 2, 6, 1, 3])\n",
        "\n",
        "'-|0|1|2|3|4|5|6|7|\\n0|*|-|-|-|-|-|-|-|\\n1|-|-|-|-|-|-|*|-|\\n2|-|-|-|-|*|-|-|-|\\n3|-|-|-|-|-|-|-|*|\\n4|-|*|-|-|-|-|-|-|\\n5|-|-|-|*|-|-|-|-|\\n6|-|-|-|-|-|*|-|-|\\n7|-|-|*|-|-|-|-|-|'\n",
        "```\n",
        "Compare this to the printout above to get a feel for how it works."
      ]
    },
    {
      "cell_type": "code",
      "metadata": {
        "id": "wVO7aVP7BKxJ"
      },
      "source": [
        "def get_n(pos): #given a board position, compute the board size\n",
        "  ### BEGIN YOUR CODE\n",
        "  return 0\n",
        "  ### END YOUR CODE\n",
        "\n",
        "def board2str(pos):\n",
        "  def row2str(c):\n",
        "    #print out a single row with a queen in column c\n",
        "    #e.g. row2str(0) should return the string '|*|-|-|-|-|-|-|-|'\n",
        "\n",
        "    ### BEGIN YOUR CODE\n",
        "    return ''\n",
        "    ### END YOUR CODE\n",
        "  \n",
        "  def top_row(n):\n",
        "    #print out the top row of labels, given the board size\n",
        "    #e.g. top_row(3) should return '-|0|1|2|'\n",
        "\n",
        "    ### BEGIN YOUR CODE\n",
        "    return ''\n",
        "    ### END YOUR CODE\n",
        "  \n",
        "  n = get_n(pos)\n",
        "  board = [top_row(n)]\n",
        "  for r in range(n):\n",
        "    ### BEGIN YOUR CODE\n",
        "    #compute the column containing the queen in row r.\n",
        "    #hint: check out the np.where function\n",
        "    c = 0\n",
        "    ### END YOUR CODE\n",
        "    board.append(str(r) + row2str(c))\n",
        "  \n",
        "  return '\\n'.join(board)"
      ],
      "execution_count": null,
      "outputs": []
    },
    {
      "cell_type": "markdown",
      "metadata": {
        "id": "_akIawl4QjV0"
      },
      "source": [
        "# Check whether a position is a solution: `is_solved`\n",
        "\n"
      ]
    },
    {
      "cell_type": "code",
      "metadata": {
        "id": "nAXlNM4eQdTP"
      },
      "source": [
        "def is_solved(pos):\n",
        "  n = get_n(pos)\n",
        "\n",
        "  #check rows\n",
        "  #hint: the columns are *always* unique, because of how the positions are\n",
        "  #represented. how can you check whether the queens from different columns\n",
        "  #occupy the same row?  you may find it useful to check out the np.unique\n",
        "  #function!\n",
        "  ### BEGIN YOUR CODE\n",
        "  unique_rows = False\n",
        "  ### END YOUR CODE\n",
        "\n",
        "  #check forward and backward diagonals\n",
        "  #hint: see the suggestions written out above in the \"General (naïve-ish)\n",
        "  #solution\" section\n",
        "  ### BEGIN YOUR CODE\n",
        "  unique_forward_diagonals = False\n",
        "  unique_backward_diagonals = False\n",
        "  ### END YOUR CODE\n",
        "\n",
        "  #return True if pos is a solution and False otherwise\n",
        "  return unique_rows and unique_forward_diagonals and unique_backward_diagonals"
      ],
      "execution_count": null,
      "outputs": []
    },
    {
      "cell_type": "markdown",
      "metadata": {
        "id": "YXgLxCyrSjX8"
      },
      "source": [
        "# Solving the puzzle!\n",
        "\n",
        "Now the fun part-- we can use your work in the cells above to solve the $n$-queens puzzle.  We'll churn through every possible permutation of the numbers $0...(n-1)$, check whether each of these \"positions\" is a valid solution to the $n$-queens puzzle, and keep track of all of the corresponding permutations (i.e., that checked out as valid solutions)."
      ]
    },
    {
      "cell_type": "code",
      "metadata": {
        "id": "DLSW09DaSHUe"
      },
      "source": [
        "def get_solutions(n):\n",
        "    solutions = []\n",
        "    for p in multiset_permutations(np.arange(n).astype('int16')):\n",
        "        if is_solved(p):\n",
        "            solutions.append(p)\n",
        "    return solutions\n",
        "\n",
        "def count_solutions(n):\n",
        "    return len(get_solutions(n))"
      ],
      "execution_count": null,
      "outputs": []
    },
    {
      "cell_type": "markdown",
      "metadata": {
        "id": "zCbgHAZXTKtq"
      },
      "source": [
        "# Sanity checks\n",
        "\n",
        "Let's check that this works for the 8-queens puzzle (there should be 92 solutions)"
      ]
    },
    {
      "cell_type": "code",
      "metadata": {
        "id": "ckXU5B5qTGkm"
      },
      "source": [
        "eights = get_solutions(8)\n",
        "print(f'Found {count_solutions(8)} solutions!')"
      ],
      "execution_count": null,
      "outputs": []
    },
    {
      "cell_type": "markdown",
      "metadata": {
        "id": "XfBS5d8GTcah"
      },
      "source": [
        "And let's also print out one of the solutions; you should get the printout shown below:\n",
        "```\n",
        "-|0|1|2|3|4|5|6|7|\n",
        "0|*|-|-|-|-|-|-|-|\n",
        "1|-|-|-|-|-|-|*|-|\n",
        "2|-|-|-|-|*|-|-|-|\n",
        "3|-|-|-|-|-|-|-|*|\n",
        "4|-|*|-|-|-|-|-|-|\n",
        "5|-|-|-|*|-|-|-|-|\n",
        "6|-|-|-|-|-|*|-|-|\n",
        "7|-|-|*|-|-|-|-|-|\n",
        "```"
      ]
    },
    {
      "cell_type": "code",
      "metadata": {
        "id": "0FIYOZ2uTXuL"
      },
      "source": [
        "try:\n",
        "    print(board2str(eights[0]))\n",
        "except:\n",
        "    pass"
      ],
      "execution_count": null,
      "outputs": []
    }
  ]
}