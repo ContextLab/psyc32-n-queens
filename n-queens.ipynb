{
  "nbformat": 4,
  "nbformat_minor": 0,
  "metadata": {
    "colab": {
      "name": "n-queens.ipynb",
      "provenance": [],
      "collapsed_sections": [],
      "authorship_tag": "ABX9TyNwUcQwNOW+TSGrgLDKUB+Z",
      "include_colab_link": true
    },
    "kernelspec": {
      "name": "python3",
      "display_name": "Python 3"
    }
  },
  "cells": [
    {
      "cell_type": "markdown",
      "metadata": {
        "id": "view-in-github",
        "colab_type": "text"
      },
      "source": [
        "<a href=\"https://colab.research.google.com/github/ContextLab/psyc32-n-queens/blob/main/n-queens.ipynb\" target=\"_parent\"><img src=\"https://colab.research.google.com/assets/colab-badge.svg\" alt=\"Open In Colab\"/></a>"
      ]
    },
    {
      "cell_type": "markdown",
      "metadata": {
        "id": "DSDPZvlzCLEH"
      },
      "source": [
        "# The $n$-Queens puzzle: Introduction and overview\n",
        "\n",
        "The classic [eight queens puzzle](https://en.wikipedia.org/wiki/Eight_queens_puzzle) refers to the challenge of placing eight [chess](https://en.wikipedia.org/wiki/Chess) [queens](https://en.wikipedia.org/wiki/Queen_(chess)) on an $8 \\times 8$ board such that no queen is attacking any other.  Specifically, there can only be (at most) a single queen on any row, column, and diagonal of the board.  Here is one solution to the eight queens puzzle (there are 92 distinct solutions in total, or 12 if rotations and reflections are not counted as separate solutions):\n",
        "\n",
        "![8-queens](https://i.stack.imgur.com/D32OV.png)\n",
        "\n",
        "In principle, the eight queens puzzle may be generalized to imaginary chessboards of any size.  For $n \\geq 1$, placing $n$ queens on an $n \\times n$ chess board is referred to as the $n$-queens puzzle.\n",
        "\n",
        "For this assignment, you'll be building a solver for the $n$-queens puzzle.  There are two general functions you'll need to write:\n",
        "1. A function for printing out a board position (e.g., depicting the configuration of the pieces visually)\n",
        "2. A function for checking whether a given position corresponds to a solution (i.e., whether any queens are attacking each other)\n",
        "\n",
        "Using these two functions, you'll be provided with functions for returning all solutions (given $n \\geq 1$) and for returning the *number* of solutions (given $n \\geq 1$).\n",
        "\n",
        "## Some history of the $n$-queens puzzle\n",
        "In [a 2017 paper](https://www.jair.org/index.php/jair/article/view/11079), the $n$-queens puzzle (sometimes called the $n$-queens problem) was shown to be a member of a set of problems in computer science that are [NP-complete](https://en.wikipedia.org/wiki/NP-completeness).  Exploring or proving NP-completeness is beyond the scope of our course, but the super high-level intuition for NP-completeness can be summarized as:\n",
        "  - For all known ways of solving them, NP-complete problems take a very long time to solve (their associated computations don't scale well)\n",
        "  - Because all NP-complete problems can be efficiently(ish) converted to other NP-complete problems, solving any one NP-complete problem efficiently would also provide an efficient solution for *all* NP-complete problems.\n",
        "\n",
        "Solving NP-complete problems efficiently is an [open question in computer science](https://en.wikipedia.org/wiki/P_versus_NP_problem).  Although we won't be attempting to make a research breakthrough in this question space, it can still be fun and instructive to explore problems like the $n$-queens puzzle.\n",
        "\n",
        "# General (naïve-ish) solution\n",
        "\n",
        "First, we'll represent the board in an efficient way: an $n$-dimensional array, where the position reflects the column number and the value reflects the row of the queen at that column.\n",
        "\n",
        "For example, the above solution to the 8-queens puzzle could be represented by the array [2, 4, 6, 8, 3, 1, 7, 5].\n",
        "\n",
        "Notice that, with this notation, every possible solution to the $n$-queens puzzle must be a permutation of the integers from 0 to $n-1$. This ensures that at most a single queen is placed in each row and column.\n",
        "\n",
        "Next we need to check the diagonals. Using the same notation, we can check to see if queens are attacking each other along the \"forward\" (top-left to bottom-right) diagonal by asking whether any queens share the same difference between their row and column. In other words: if $r_0...(n-1)$ represents the queens' rows and $c_0...(n-1)$ represents the queens' columns, we must ensure that $r_i - c_i$ never equals $r_j - c_j$ for any value of $i$ not equal to $j$. This can be checked efficiently by ensuring that `len(np.unique(np.arange(n) - pos)) == n`. Finally, to check the \"reverse\" diagonal (i.e. top-right to bottom-left), we can use analogous logic and verify that `len(np.unique(np.arange(n-1, -1, -1) - pos)) == n` as well.\n",
        "\n",
        "If no queens share a row, column, forward diagonal, or reverse diagonal, and if $n$ queens have been placed on the $n \\times n$ board, then we have found a solution!\n",
        "\n",
        "Naïvely, to find every solution of the $n$-queens puzzle for a given $n$, we could simply iterate through all possible permutations of the integers from $0...(n-1)$, check whether each is a valid solution, and collect up all of the permutations that are valid solutions. The challenge is that the number of permutations of $n$ numbers is $n$ factorial, which becomes intractable as $n$ gets large. For example, storing a single integer in short (16 bit) format requires 2 bytes. Therefore storing a single position (of length $n$) requires $2n$ bytes. Storing all possible $n!$ permutations for a $13 \\times 13$ board would require over 12GB of memory, and for a $14 \\times 14$ board would require over 174GB!\n",
        "\n",
        "Since our main concern for this assignment is to improve our programming skills, we won't worry about scalability here; you can assume that you'll never need to solve (or count solutions for) $n > 12$.\n",
        "\n",
        "# Grading\n",
        "\n",
        "This assignment is worth a total of 5 points.  You may view the tests in the public rubric [here](https://github.com/ContextLab/cs-for-psych/blob/master/assignments/n-queens/public_rubric.xls)."
      ]
    },
    {
      "cell_type": "code",
      "metadata": {
        "id": "sgTHKSijK3yR"
      },
      "source": [
        "from sympy.utilities.iterables import multiset_permutations #this is used to compute every permutation of a list"
      ],
      "execution_count": 8,
      "outputs": []
    },
    {
      "cell_type": "markdown",
      "metadata": {
        "id": "9khYTNLFKUzO"
      },
      "source": [
        "# Represent a board position as a string: `board2str`\n",
        "\n",
        "We'll write a function to convert a board position to a string that may be printed out:\n",
        "```python\n",
        ">> print(board2str([0, 4, 7, 5, 2, 6, 1, 3]))\n",
        "\n",
        "-|0|1|2|3|4|5|6|7|\n",
        "0|*|-|-|-|-|-|-|-|\n",
        "1|-|-|-|-|-|-|*|-|\n",
        "2|-|-|-|-|*|-|-|-|\n",
        "3|-|-|-|-|-|-|-|*|\n",
        "4|-|*|-|-|-|-|-|-|\n",
        "5|-|-|-|*|-|-|-|-|\n",
        "6|-|-|-|-|-|*|-|-|\n",
        "7|-|-|*|-|-|-|-|-|\n",
        "```\n",
        "\n",
        "Some things to note:\n",
        "  - The `board2str` function takes as input a single argument, `pos`: a list representation of the board position\n",
        "  - From this list representation, the function automatically determines how large the board is (`n = len(pos)`)\n",
        "  - The rows and columns of the board a numbered (starting with 0)\n",
        "  - Empty squares are denoted by `-` and queens are denoted by `*`\n",
        "  - Rows are separated using the [newline character](https://www.freecodecamp.org/news/python-new-line-and-how-to-python-print-without-a-newline/), `\\n`.  This tells Python that a single string occupies several lines, e.g. when it is printed out.\n",
        "\n",
        "Given the input `[0, 4, 7, 5, 2, 6, 1, 3]`, `board2str` should return the following string:\n",
        "```python\n",
        ">> board2str([0, 4, 7, 5, 2, 6, 1, 3])\n",
        "\n",
        "'-|0|1|2|3|4|5|6|7|\\n0|*|-|-|-|-|-|-|-|\\n1|-|-|-|-|-|-|*|-|\\n2|-|-|-|-|*|-|-|-|\\n3|-|-|-|-|-|-|-|*|\\n4|-|*|-|-|-|-|-|-|\\n5|-|-|-|*|-|-|-|-|\\n6|-|-|-|-|-|*|-|-|\\n7|-|-|*|-|-|-|-|-|'\n",
        "```\n",
        "Compare this to the printout above to get a feel for how it works.[link text](https://)"
      ]
    },
    {
      "cell_type": "code",
      "metadata": {
        "id": "wVO7aVP7BKxJ"
      },
      "source": [
        "def get_n(pos): #given a board position, compute the board size\n",
        "  ### BEGIN YOUR CODE\n",
        "  return 0\n",
        "  ### END YOUR CODE\n",
        "\n",
        "def board2str(pos):\n",
        "  def row2str(c):\n",
        "    #print out a single row with a queen in column c\n",
        "    #e.g. row2str(0) should return '|*|-|-|-|-|-|-|-|'\n",
        "\n",
        "    ### BEGIN YOUR CODE\n",
        "    return ''\n",
        "    ### END YOUR CODE\n",
        "  \n",
        "  def top_row(n):\n",
        "    #print out the top row of labels, given the board size\n",
        "    #e.g. top_row(3) should return '-|0|1|2|'\n",
        "\n",
        "    ### BEGIN YOUR CODE\n",
        "    return ''\n",
        "    ### END YOUR CODE\n",
        "  \n",
        "  n = get_n(pos)\n",
        "  board = [top_row(n)]\n",
        "  for r in range(n):\n",
        "    ### BEGIN YOUR CODE\n",
        "    c = 0 #compute the column of the queen in for row r\n",
        "    ### END YOUR CODE\n",
        "    board.append(str(r) + row2st(c))\n",
        "  \n",
        "  return '\\n'.join(board)"
      ],
      "execution_count": 4,
      "outputs": []
    },
    {
      "cell_type": "markdown",
      "metadata": {
        "id": "_akIawl4QjV0"
      },
      "source": [
        "# Check whether a position is a solution: `is_solved`\n",
        "\n"
      ]
    },
    {
      "cell_type": "code",
      "metadata": {
        "id": "nAXlNM4eQdTP"
      },
      "source": [
        "def is_solved(pos):\n",
        "  n = get_n(pos)\n",
        "\n",
        "  #check rows and columns\n",
        "  ### BEGIN YOUR CODE\n",
        "  return False\n",
        "  ### END YOUR CODE\n",
        "\n",
        "  #check diagonals\n",
        "  ### BEGIN YOUR CODE\n",
        "  return False\n",
        "  ### END YOUR CODE\n",
        "\n",
        "  #return True if pos is a solution and False otherwise\n",
        "  ### BEGIN YOUR CODE\n",
        "  return False\n",
        "  ### END YOUR CODE"
      ],
      "execution_count": 5,
      "outputs": []
    },
    {
      "cell_type": "markdown",
      "metadata": {
        "id": "YXgLxCyrSjX8"
      },
      "source": [
        "# Solving the puzzle!\n",
        "\n",
        "Now the fun part-- we can use your work in the cells above to solve the $n$-queens puzzle.  We'll churn through every possible permutation of the numbers $0...(n-1)$, check whether each of these \"positions\" is a valid solution to the $n$-queens puzzle, and keep track of all of the corresponding permutations (i.e., that checked out as valid solutions)."
      ]
    },
    {
      "cell_type": "code",
      "metadata": {
        "id": "DLSW09DaSHUe"
      },
      "source": [
        "def get_solutions(n):\n",
        "    solutions = []\n",
        "    for p in multiset_permutations(np.arange(n).astype('int16')):\n",
        "        if is_solved(p):\n",
        "            solutions.append(p)\n",
        "    return solutions"
      ],
      "execution_count": 10,
      "outputs": []
    },
    {
      "cell_type": "markdown",
      "metadata": {
        "id": "zCbgHAZXTKtq"
      },
      "source": [
        "# Sanity checks\n",
        "\n",
        "Let's check that this works for the 8-queens puzzle (there should be 92 solutions)"
      ]
    },
    {
      "cell_type": "code",
      "metadata": {
        "id": "ckXU5B5qTGkm"
      },
      "source": [
        "eights = get_solutions(8)\n",
        "assert len(eights) == 92, 'something is wrong...'"
      ],
      "execution_count": null,
      "outputs": []
    },
    {
      "cell_type": "markdown",
      "metadata": {
        "id": "XfBS5d8GTcah"
      },
      "source": [
        "And let's also print out one of the solutions; you should get the printout shown below:\n",
        "```\n",
        "-|0|1|2|3|4|5|6|7|\n",
        "0|*|-|-|-|-|-|-|-|\n",
        "1|-|-|-|-|-|-|*|-|\n",
        "2|-|-|-|-|*|-|-|-|\n",
        "3|-|-|-|-|-|-|-|*|\n",
        "4|-|*|-|-|-|-|-|-|\n",
        "5|-|-|-|*|-|-|-|-|\n",
        "6|-|-|-|-|-|*|-|-|\n",
        "7|-|-|*|-|-|-|-|-|\n",
        "```"
      ]
    },
    {
      "cell_type": "code",
      "metadata": {
        "id": "0FIYOZ2uTXuL"
      },
      "source": [
        "print(board2str(eights[0]))"
      ],
      "execution_count": null,
      "outputs": []
    }
  ]
}